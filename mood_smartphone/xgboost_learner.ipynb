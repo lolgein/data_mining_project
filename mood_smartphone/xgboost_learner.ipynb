{
 "cells": [
  {
   "cell_type": "markdown",
   "metadata": {},
   "source": [
    "# Settings"
   ]
  },
  {
   "cell_type": "code",
   "execution_count": 1,
   "metadata": {
    "collapsed": true
   },
   "outputs": [],
   "source": [
    "import pandas as pd\n",
    "import numpy as np\n",
    "\n",
    "import matplotlib as plt\n",
    "\n",
    "import xgboost as xgb"
   ]
  },
  {
   "cell_type": "markdown",
   "metadata": {},
   "source": [
    "# Read in data"
   ]
  },
  {
   "cell_type": "code",
   "execution_count": 3,
   "metadata": {},
   "outputs": [],
   "source": [
    "df = pd.read_csv('transformed_version1.csv',index_col=0)"
   ]
  },
  {
   "cell_type": "code",
   "execution_count": 4,
   "metadata": {},
   "outputs": [
    {
     "data": {
      "text/html": [
       "<div>\n",
       "<style>\n",
       "    .dataframe thead tr:only-child th {\n",
       "        text-align: right;\n",
       "    }\n",
       "\n",
       "    .dataframe thead th {\n",
       "        text-align: left;\n",
       "    }\n",
       "\n",
       "    .dataframe tbody tr th {\n",
       "        vertical-align: top;\n",
       "    }\n",
       "</style>\n",
       "<table border=\"1\" class=\"dataframe\">\n",
       "  <thead>\n",
       "    <tr style=\"text-align: right;\">\n",
       "      <th></th>\n",
       "      <th>id</th>\n",
       "      <th>mood</th>\n",
       "      <th>valence</th>\n",
       "      <th>activity</th>\n",
       "      <th>screen</th>\n",
       "      <th>call</th>\n",
       "      <th>sms</th>\n",
       "      <th>builtin</th>\n",
       "      <th>communication</th>\n",
       "      <th>entertainment</th>\n",
       "      <th>finance</th>\n",
       "      <th>game</th>\n",
       "      <th>office</th>\n",
       "      <th>other</th>\n",
       "      <th>social</th>\n",
       "      <th>travel</th>\n",
       "      <th>unknown</th>\n",
       "      <th>utilities</th>\n",
       "      <th>weather</th>\n",
       "      <th>mood_target</th>\n",
       "    </tr>\n",
       "  </thead>\n",
       "  <tbody>\n",
       "    <tr>\n",
       "      <th>1</th>\n",
       "      <td>AS14.01</td>\n",
       "      <td>7.680000</td>\n",
       "      <td>0.952381</td>\n",
       "      <td>0.087991</td>\n",
       "      <td>91.842770</td>\n",
       "      <td>8.0</td>\n",
       "      <td>5.0</td>\n",
       "      <td>14.594934</td>\n",
       "      <td>48.265692</td>\n",
       "      <td>75.374653</td>\n",
       "      <td>34.024300</td>\n",
       "      <td>166.6525</td>\n",
       "      <td>28.098</td>\n",
       "      <td>11.851621</td>\n",
       "      <td>87.622753</td>\n",
       "      <td>24.126895</td>\n",
       "      <td>30.102</td>\n",
       "      <td>20.644178</td>\n",
       "      <td>0.0</td>\n",
       "      <td>8.0</td>\n",
       "    </tr>\n",
       "    <tr>\n",
       "      <th>2</th>\n",
       "      <td>AS14.01</td>\n",
       "      <td>7.600000</td>\n",
       "      <td>0.904762</td>\n",
       "      <td>0.077578</td>\n",
       "      <td>93.990672</td>\n",
       "      <td>10.0</td>\n",
       "      <td>4.0</td>\n",
       "      <td>14.643164</td>\n",
       "      <td>46.611509</td>\n",
       "      <td>66.262493</td>\n",
       "      <td>35.506890</td>\n",
       "      <td>166.6525</td>\n",
       "      <td>28.098</td>\n",
       "      <td>12.523733</td>\n",
       "      <td>113.352526</td>\n",
       "      <td>17.487778</td>\n",
       "      <td>0.000</td>\n",
       "      <td>18.786921</td>\n",
       "      <td>0.0</td>\n",
       "      <td>8.0</td>\n",
       "    </tr>\n",
       "    <tr>\n",
       "      <th>3</th>\n",
       "      <td>AS14.01</td>\n",
       "      <td>7.583333</td>\n",
       "      <td>0.909091</td>\n",
       "      <td>0.068845</td>\n",
       "      <td>89.225893</td>\n",
       "      <td>10.0</td>\n",
       "      <td>4.0</td>\n",
       "      <td>16.254677</td>\n",
       "      <td>43.917878</td>\n",
       "      <td>77.735000</td>\n",
       "      <td>36.022983</td>\n",
       "      <td>166.6525</td>\n",
       "      <td>28.098</td>\n",
       "      <td>39.998657</td>\n",
       "      <td>129.032721</td>\n",
       "      <td>17.487778</td>\n",
       "      <td>0.000</td>\n",
       "      <td>18.400463</td>\n",
       "      <td>0.0</td>\n",
       "      <td>7.6</td>\n",
       "    </tr>\n",
       "    <tr>\n",
       "      <th>4</th>\n",
       "      <td>AS14.01</td>\n",
       "      <td>7.500000</td>\n",
       "      <td>0.909091</td>\n",
       "      <td>0.103948</td>\n",
       "      <td>114.310741</td>\n",
       "      <td>6.0</td>\n",
       "      <td>4.0</td>\n",
       "      <td>17.396214</td>\n",
       "      <td>47.582145</td>\n",
       "      <td>80.794000</td>\n",
       "      <td>45.660105</td>\n",
       "      <td>166.6525</td>\n",
       "      <td>0.000</td>\n",
       "      <td>41.227294</td>\n",
       "      <td>177.347700</td>\n",
       "      <td>20.672447</td>\n",
       "      <td>3.148</td>\n",
       "      <td>17.520890</td>\n",
       "      <td>0.0</td>\n",
       "      <td>8.0</td>\n",
       "    </tr>\n",
       "    <tr>\n",
       "      <th>5</th>\n",
       "      <td>AS14.01</td>\n",
       "      <td>7.375000</td>\n",
       "      <td>0.913043</td>\n",
       "      <td>0.095334</td>\n",
       "      <td>118.324495</td>\n",
       "      <td>7.0</td>\n",
       "      <td>5.0</td>\n",
       "      <td>16.977589</td>\n",
       "      <td>52.419436</td>\n",
       "      <td>85.675873</td>\n",
       "      <td>32.099438</td>\n",
       "      <td>166.6525</td>\n",
       "      <td>0.000</td>\n",
       "      <td>40.149750</td>\n",
       "      <td>169.521795</td>\n",
       "      <td>23.042840</td>\n",
       "      <td>3.148</td>\n",
       "      <td>17.820047</td>\n",
       "      <td>0.0</td>\n",
       "      <td>7.8</td>\n",
       "    </tr>\n",
       "    <tr>\n",
       "      <th>6</th>\n",
       "      <td>AS14.01</td>\n",
       "      <td>7.500000</td>\n",
       "      <td>0.920000</td>\n",
       "      <td>0.084697</td>\n",
       "      <td>147.936589</td>\n",
       "      <td>8.0</td>\n",
       "      <td>5.0</td>\n",
       "      <td>9.968315</td>\n",
       "      <td>56.982915</td>\n",
       "      <td>101.219780</td>\n",
       "      <td>34.453714</td>\n",
       "      <td>0.0000</td>\n",
       "      <td>0.000</td>\n",
       "      <td>41.169452</td>\n",
       "      <td>129.813467</td>\n",
       "      <td>22.510500</td>\n",
       "      <td>3.148</td>\n",
       "      <td>18.767680</td>\n",
       "      <td>0.0</td>\n",
       "      <td>7.0</td>\n",
       "    </tr>\n",
       "    <tr>\n",
       "      <th>7</th>\n",
       "      <td>AS14.01</td>\n",
       "      <td>7.500000</td>\n",
       "      <td>0.960000</td>\n",
       "      <td>0.090094</td>\n",
       "      <td>137.770328</td>\n",
       "      <td>7.0</td>\n",
       "      <td>5.0</td>\n",
       "      <td>9.207536</td>\n",
       "      <td>56.385226</td>\n",
       "      <td>92.194948</td>\n",
       "      <td>18.421733</td>\n",
       "      <td>0.0000</td>\n",
       "      <td>0.000</td>\n",
       "      <td>40.195710</td>\n",
       "      <td>104.515667</td>\n",
       "      <td>22.510500</td>\n",
       "      <td>3.148</td>\n",
       "      <td>19.618791</td>\n",
       "      <td>0.0</td>\n",
       "      <td>7.6</td>\n",
       "    </tr>\n",
       "    <tr>\n",
       "      <th>8</th>\n",
       "      <td>AS14.01</td>\n",
       "      <td>7.480000</td>\n",
       "      <td>0.960000</td>\n",
       "      <td>0.101486</td>\n",
       "      <td>125.296542</td>\n",
       "      <td>9.0</td>\n",
       "      <td>5.0</td>\n",
       "      <td>9.195749</td>\n",
       "      <td>53.605005</td>\n",
       "      <td>71.168160</td>\n",
       "      <td>14.989476</td>\n",
       "      <td>0.0000</td>\n",
       "      <td>0.000</td>\n",
       "      <td>9.353444</td>\n",
       "      <td>98.231415</td>\n",
       "      <td>22.510500</td>\n",
       "      <td>3.148</td>\n",
       "      <td>20.297950</td>\n",
       "      <td>0.0</td>\n",
       "      <td>7.5</td>\n",
       "    </tr>\n",
       "    <tr>\n",
       "      <th>9</th>\n",
       "      <td>AS14.01</td>\n",
       "      <td>7.480000</td>\n",
       "      <td>0.960000</td>\n",
       "      <td>0.079984</td>\n",
       "      <td>109.248470</td>\n",
       "      <td>8.0</td>\n",
       "      <td>1.0</td>\n",
       "      <td>12.774524</td>\n",
       "      <td>52.634060</td>\n",
       "      <td>68.444649</td>\n",
       "      <td>16.038900</td>\n",
       "      <td>0.0000</td>\n",
       "      <td>0.000</td>\n",
       "      <td>9.792111</td>\n",
       "      <td>74.432122</td>\n",
       "      <td>20.308667</td>\n",
       "      <td>0.000</td>\n",
       "      <td>21.613467</td>\n",
       "      <td>0.0</td>\n",
       "      <td>7.6</td>\n",
       "    </tr>\n",
       "    <tr>\n",
       "      <th>10</th>\n",
       "      <td>AS14.01</td>\n",
       "      <td>7.500000</td>\n",
       "      <td>0.958333</td>\n",
       "      <td>0.073121</td>\n",
       "      <td>109.334349</td>\n",
       "      <td>8.0</td>\n",
       "      <td>2.0</td>\n",
       "      <td>12.602459</td>\n",
       "      <td>53.503023</td>\n",
       "      <td>69.956156</td>\n",
       "      <td>16.332263</td>\n",
       "      <td>0.0000</td>\n",
       "      <td>0.000</td>\n",
       "      <td>8.836231</td>\n",
       "      <td>73.781778</td>\n",
       "      <td>19.910333</td>\n",
       "      <td>0.000</td>\n",
       "      <td>20.702084</td>\n",
       "      <td>0.0</td>\n",
       "      <td>7.2</td>\n",
       "    </tr>\n",
       "  </tbody>\n",
       "</table>\n",
       "</div>"
      ],
      "text/plain": [
       "         id      mood   valence  activity      screen  call  sms    builtin  \\\n",
       "1   AS14.01  7.680000  0.952381  0.087991   91.842770   8.0  5.0  14.594934   \n",
       "2   AS14.01  7.600000  0.904762  0.077578   93.990672  10.0  4.0  14.643164   \n",
       "3   AS14.01  7.583333  0.909091  0.068845   89.225893  10.0  4.0  16.254677   \n",
       "4   AS14.01  7.500000  0.909091  0.103948  114.310741   6.0  4.0  17.396214   \n",
       "5   AS14.01  7.375000  0.913043  0.095334  118.324495   7.0  5.0  16.977589   \n",
       "6   AS14.01  7.500000  0.920000  0.084697  147.936589   8.0  5.0   9.968315   \n",
       "7   AS14.01  7.500000  0.960000  0.090094  137.770328   7.0  5.0   9.207536   \n",
       "8   AS14.01  7.480000  0.960000  0.101486  125.296542   9.0  5.0   9.195749   \n",
       "9   AS14.01  7.480000  0.960000  0.079984  109.248470   8.0  1.0  12.774524   \n",
       "10  AS14.01  7.500000  0.958333  0.073121  109.334349   8.0  2.0  12.602459   \n",
       "\n",
       "    communication  entertainment    finance      game  office      other  \\\n",
       "1       48.265692      75.374653  34.024300  166.6525  28.098  11.851621   \n",
       "2       46.611509      66.262493  35.506890  166.6525  28.098  12.523733   \n",
       "3       43.917878      77.735000  36.022983  166.6525  28.098  39.998657   \n",
       "4       47.582145      80.794000  45.660105  166.6525   0.000  41.227294   \n",
       "5       52.419436      85.675873  32.099438  166.6525   0.000  40.149750   \n",
       "6       56.982915     101.219780  34.453714    0.0000   0.000  41.169452   \n",
       "7       56.385226      92.194948  18.421733    0.0000   0.000  40.195710   \n",
       "8       53.605005      71.168160  14.989476    0.0000   0.000   9.353444   \n",
       "9       52.634060      68.444649  16.038900    0.0000   0.000   9.792111   \n",
       "10      53.503023      69.956156  16.332263    0.0000   0.000   8.836231   \n",
       "\n",
       "        social     travel  unknown  utilities  weather  mood_target  \n",
       "1    87.622753  24.126895   30.102  20.644178      0.0          8.0  \n",
       "2   113.352526  17.487778    0.000  18.786921      0.0          8.0  \n",
       "3   129.032721  17.487778    0.000  18.400463      0.0          7.6  \n",
       "4   177.347700  20.672447    3.148  17.520890      0.0          8.0  \n",
       "5   169.521795  23.042840    3.148  17.820047      0.0          7.8  \n",
       "6   129.813467  22.510500    3.148  18.767680      0.0          7.0  \n",
       "7   104.515667  22.510500    3.148  19.618791      0.0          7.6  \n",
       "8    98.231415  22.510500    3.148  20.297950      0.0          7.5  \n",
       "9    74.432122  20.308667    0.000  21.613467      0.0          7.6  \n",
       "10   73.781778  19.910333    0.000  20.702084      0.0          7.2  "
      ]
     },
     "execution_count": 4,
     "metadata": {},
     "output_type": "execute_result"
    }
   ],
   "source": [
    "df.head(10)"
   ]
  },
  {
   "cell_type": "markdown",
   "metadata": {},
   "source": [
    "# Split data"
   ]
  },
  {
   "cell_type": "markdown",
   "metadata": {},
   "source": [
    "Split dataset into train and test set. \n",
    "\n",
    "Distribution is 80% train and 20% test set. In future, validation set can be used to perform grid search, etc."
   ]
  },
  {
   "cell_type": "code",
   "execution_count": 8,
   "metadata": {
    "collapsed": true
   },
   "outputs": [],
   "source": [
    "dataset = df.iloc[:,1:]\n",
    "rand_split = np.random.rand(len(dataset))\n",
    "train_list = rand_split < 0.8\n",
    "#val_list = (rand_split >= 0.8) & (rand_split < 0.9)\n",
    "test_list = rand_split >= 0.8\n",
    "\n",
    "data_train = dataset[train_list]\n",
    "#data_val = dataset[val_list]\n",
    "data_test = dataset[test_list]\n",
    "\n",
    "train = xgb.DMatrix(data_train.iloc[:,:-1], label = data_train.iloc[:,-1])\n",
    "#val = xgb.DMatrix(data_val.iloc[:,1:], label = data_train.iloc[:,0])\n",
    "test = xgb.DMatrix(data_test.iloc[:,:-1], label = data_test.iloc[:,-1])"
   ]
  },
  {
   "cell_type": "code",
   "execution_count": 13,
   "metadata": {},
   "outputs": [
    {
     "data": {
      "text/plain": [
       "(1010, 19)"
      ]
     },
     "execution_count": 13,
     "metadata": {},
     "output_type": "execute_result"
    }
   ],
   "source": [
    "data_train.shape"
   ]
  },
  {
   "cell_type": "markdown",
   "metadata": {},
   "source": [
    "# Set parameters"
   ]
  },
  {
   "cell_type": "markdown",
   "metadata": {},
   "source": [
    "At this moment no parameter grid search or random grid search. Thus, parameter settings are at this moment arbitrary."
   ]
  },
  {
   "cell_type": "code",
   "execution_count": 9,
   "metadata": {
    "collapsed": true
   },
   "outputs": [],
   "source": [
    "param = {\n",
    "    'max_depth': 5,\n",
    "    'eta': 0.3,\n",
    "    'silent': 1,\n",
    "    'objective': 'reg:linear',\n",
    "}\n",
    "param['nthread'] = 4\n",
    "num_round = 100"
   ]
  },
  {
   "cell_type": "markdown",
   "metadata": {},
   "source": [
    "# Train model"
   ]
  },
  {
   "cell_type": "code",
   "execution_count": 14,
   "metadata": {
    "collapsed": true
   },
   "outputs": [],
   "source": [
    "model = xgb.train(param, train, num_round)"
   ]
  },
  {
   "cell_type": "markdown",
   "metadata": {},
   "source": [
    "# Evaluate model"
   ]
  },
  {
   "cell_type": "markdown",
   "metadata": {},
   "source": [
    "Lets look at feature importance. It was expected that mood and valance have much predicting power from correlation plots of pre-processing notebook."
   ]
  },
  {
   "cell_type": "code",
   "execution_count": 35,
   "metadata": {},
   "outputs": [
    {
     "data": {
      "text/plain": [
       "<matplotlib.axes._subplots.AxesSubplot at 0x1a1cb97b70>"
      ]
     },
     "execution_count": 35,
     "metadata": {},
     "output_type": "execute_result"
    },
    {
     "data": {
      "image/png": "[encoded data removed]",
      "text/plain": [
       "<matplotlib.figure.Figure at 0x1a1cbd0860>"
      ]
     },
     "metadata": {},
     "output_type": "display_data"
    }
   ],
   "source": [
    "%matplotlib inline\n",
    "xgb.plot_importance(model)"
   ]
  },
  {
   "cell_type": "code",
   "execution_count": 31,
   "metadata": {},
   "outputs": [],
   "source": [
    "originals = data_test.iloc[:,-1].values\n",
    "predictions = model.predict(test)"
   ]
  },
  {
   "cell_type": "markdown",
   "metadata": {},
   "source": [
    "Calculate some performance metrics. \n",
    "\n",
    "Seems to be low. However, no baseline set yet!"
   ]
  },
  {
   "cell_type": "code",
   "execution_count": 34,
   "metadata": {},
   "outputs": [
    {
     "name": "stdout",
     "output_type": "stream",
     "text": [
      "MAE: 0.4900792646470908\n",
      "RMSE: 0.6617289623259621\n"
     ]
    }
   ],
   "source": [
    "import math\n",
    "MAE = lambda p,o: sum(abs(p - o)) / len(o)\n",
    "RMSE = lambda p,o: math.sqrt(sum((p - o) ** 2) / len(o))\n",
    "\n",
    "print('MAE: {}'.format(MAE(predictions, originals)))\n",
    "print('RMSE: {}'.format(RMSE(predictions, originals)))"
   ]
  },
  {
   "cell_type": "markdown",
   "metadata": {},
   "source": [
    "Thus, lets make a baseline. Every mood is predicted by the average mood of the previous day."
   ]
  },
  {
   "cell_type": "code",
   "execution_count": 45,
   "metadata": {},
   "outputs": [],
   "source": [
    "originals = df.iloc[:,-1].values\n",
    "original = np.delete(originals, originals.shape[0]-1)\n",
    "prediction = np.delete(originals, 0)"
   ]
  },
  {
   "cell_type": "markdown",
   "metadata": {},
   "source": [
    "Does not perform much worse. The RMSE is 13.8% worser than xgboost model."
   ]
  },
  {
   "cell_type": "code",
   "execution_count": 46,
   "metadata": {},
   "outputs": [
    {
     "name": "stdout",
     "output_type": "stream",
     "text": [
      "MAE: 0.5594823032223984\n",
      "RMSE: 0.7677261908636778\n"
     ]
    }
   ],
   "source": [
    "print('MAE: {}'.format(MAE(prediction, original)))\n",
    "print('RMSE: {}'.format(RMSE(prediction, original)))"
   ]
  },
  {
   "cell_type": "code",
   "execution_count": 49,
   "metadata": {},
   "outputs": [
    {
     "data": {
      "text/plain": [
       "13.806644842801408"
      ]
     },
     "execution_count": 49,
     "metadata": {},
     "output_type": "execute_result"
    }
   ],
   "source": [
    "(1 - 0.6617289623259621/0.7677261908636778) * 100"
   ]
  },
  {
   "cell_type": "code",
   "execution_count": null,
   "metadata": {
    "collapsed": true
   },
   "outputs": [],
   "source": []
  }
 ],
 "metadata": {
  "kernelspec": {
   "display_name": "Python 3",
   "language": "python",
   "name": "python3"
  },
  "language_info": {
   "codemirror_mode": {
    "name": "ipython",
    "version": 3
   },
   "file_extension": ".py",
   "mimetype": "text/x-python",
   "name": "python",
   "nbconvert_exporter": "python",
   "pygments_lexer": "ipython3",
   "version": "3.6.3"
  }
 },
 "nbformat": 4,
 "nbformat_minor": 2
}
